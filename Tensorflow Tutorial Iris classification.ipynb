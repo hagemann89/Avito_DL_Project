{
 "cells": [
  {
   "cell_type": "code",
   "execution_count": 1,
   "metadata": {},
   "outputs": [
    {
     "name": "stdout",
     "output_type": "stream",
     "text": [
      "TensorFlow version: 1.8.0\n",
      "Eager execution: True\n"
     ]
    }
   ],
   "source": [
    "from __future__ import absolute_import, division, print_function\n",
    "\n",
    "import os\n",
    "import matplotlib.pyplot as plt\n",
    "\n",
    "import tensorflow as tf\n",
    "import tensorflow.contrib.eager as tfe\n",
    "\n",
    "tf.enable_eager_execution()\n",
    "\n",
    "print(\"TensorFlow version: {}\".format(tf.VERSION))\n",
    "print(\"Eager execution: {}\".format(tf.executing_eagerly()))"
   ]
  },
  {
   "cell_type": "code",
   "execution_count": 2,
   "metadata": {},
   "outputs": [
    {
     "name": "stdout",
     "output_type": "stream",
     "text": [
      "Local copy of the dataset file: C:\\Users\\andre\\.keras\\datasets\\iris_training.csv\n"
     ]
    }
   ],
   "source": [
    "train_dataset_url = \"http://download.tensorflow.org/data/iris_training.csv\"\n",
    "\n",
    "train_dataset_fp = tf.keras.utils.get_file(fname=os.path.basename(train_dataset_url),\n",
    "                                           origin=train_dataset_url)\n",
    "\n",
    "print(\"Local copy of the dataset file: {}\".format(train_dataset_fp))\n"
   ]
  },
  {
   "cell_type": "code",
   "execution_count": 3,
   "metadata": {},
   "outputs": [],
   "source": [
    "def parse_csv(line):\n",
    "  example_defaults = [[0.], [0.], [0.], [0.], [0]]  # sets field types\n",
    "  parsed_line = tf.decode_csv(line, example_defaults)\n",
    "  # First 4 fields are features, combine into single tensor\n",
    "  features = tf.reshape(parsed_line[:-1], shape=(4,))\n",
    "  # Last field is the label\n",
    "  label = tf.reshape(parsed_line[-1], shape=())\n",
    "  return features, label"
   ]
  },
  {
   "cell_type": "code",
   "execution_count": 30,
   "metadata": {},
   "outputs": [
    {
     "name": "stdout",
     "output_type": "stream",
     "text": [
      "example features: tf.Tensor([6.3 3.3 6.  2.5], shape=(4,), dtype=float32)\n",
      "example label: tf.Tensor(2, shape=(), dtype=int32)\n"
     ]
    }
   ],
   "source": [
    "train_dataset = tf.data.TextLineDataset(train_dataset_fp)\n",
    "train_dataset = train_dataset.skip(1)             # skip the first header row\n",
    "train_dataset = train_dataset.map(parse_csv)      # parse each row\n",
    "train_dataset = train_dataset.shuffle(buffer_size=1000)  # randomize\n",
    "train_dataset = train_dataset.batch(10)\n",
    "\n",
    "# View a single example entry from a batch\n",
    "features, label = iter(train_dataset).next()\n",
    "print(\"example features:\", features[0])\n",
    "print(\"example label:\", label[0])\n"
   ]
  },
  {
   "cell_type": "code",
   "execution_count": 31,
   "metadata": {},
   "outputs": [],
   "source": [
    "model = tf.keras.Sequential([\n",
    "  tf.keras.layers.Dense(10, activation=\"relu\", input_shape=(4,)),  # input shape required\n",
    "  tf.keras.layers.Dense(10, activation=\"relu\"),\n",
    "  tf.keras.layers.Dense(3)\n",
    "])\n"
   ]
  },
  {
   "cell_type": "code",
   "execution_count": 32,
   "metadata": {},
   "outputs": [],
   "source": [
    "def loss(model, x, y):\n",
    "  y_ = model(x)\n",
    "  return tf.losses.sparse_softmax_cross_entropy(labels=y, logits=y_)\n",
    "\n",
    "def grad(model, inputs, targets):\n",
    "  with tf.GradientTape() as tape:\n",
    "    loss_value = loss(model, inputs, targets)\n",
    "  return tape.gradient(loss_value, model.variables)"
   ]
  },
  {
   "cell_type": "code",
   "execution_count": 33,
   "metadata": {},
   "outputs": [],
   "source": [
    "## Note: Rerunning this cell uses the same model variables\n",
    "\n",
    "# keep results for plotting\n",
    "train_loss_results = []\n",
    "train_accuracy_results = []"
   ]
  },
  {
   "cell_type": "code",
   "execution_count": 34,
   "metadata": {},
   "outputs": [],
   "source": [
    "optimizer = tf.train.GradientDescentOptimizer(learning_rate=0.01)"
   ]
  },
  {
   "cell_type": "code",
   "execution_count": 42,
   "metadata": {},
   "outputs": [],
   "source": [
    "num_epochs = 200\n",
    "i=0"
   ]
  },
  {
   "cell_type": "code",
   "execution_count": 43,
   "metadata": {},
   "outputs": [
    {
     "name": "stdout",
     "output_type": "stream",
     "text": [
      "Epoch 000: Loss: 0.938, Accuracy: 35.833%\n",
      "Epoch 001: Loss: 0.913, Accuracy: 58.333%\n",
      "Epoch 002: Loss: 0.895, Accuracy: 65.000%\n",
      "Epoch 003: Loss: 0.871, Accuracy: 68.333%\n",
      "Epoch 004: Loss: 0.853, Accuracy: 68.333%\n",
      "Epoch 005: Loss: 0.837, Accuracy: 70.000%\n",
      "Epoch 006: Loss: 0.820, Accuracy: 70.000%\n",
      "Epoch 007: Loss: 0.806, Accuracy: 70.000%\n",
      "Epoch 008: Loss: 0.787, Accuracy: 70.000%\n",
      "Epoch 009: Loss: 0.773, Accuracy: 70.000%\n",
      "Epoch 010: Loss: 0.760, Accuracy: 70.000%\n",
      "Epoch 011: Loss: 0.739, Accuracy: 70.000%\n",
      "Epoch 012: Loss: 0.735, Accuracy: 70.000%\n",
      "Epoch 013: Loss: 0.716, Accuracy: 70.000%\n",
      "Epoch 014: Loss: 0.699, Accuracy: 70.000%\n",
      "Epoch 015: Loss: 0.685, Accuracy: 70.000%\n",
      "Epoch 016: Loss: 0.675, Accuracy: 70.000%\n",
      "Epoch 017: Loss: 0.658, Accuracy: 70.000%\n",
      "Epoch 018: Loss: 0.645, Accuracy: 70.000%\n",
      "Epoch 019: Loss: 0.631, Accuracy: 70.000%\n",
      "Epoch 020: Loss: 0.620, Accuracy: 70.000%\n",
      "Epoch 021: Loss: 0.601, Accuracy: 70.000%\n",
      "Epoch 022: Loss: 0.593, Accuracy: 70.000%\n",
      "Epoch 023: Loss: 0.570, Accuracy: 70.000%\n",
      "Epoch 024: Loss: 0.565, Accuracy: 70.000%\n",
      "Epoch 025: Loss: 0.550, Accuracy: 70.000%\n",
      "Epoch 026: Loss: 0.542, Accuracy: 70.000%\n",
      "Epoch 027: Loss: 0.525, Accuracy: 70.833%\n",
      "Epoch 028: Loss: 0.519, Accuracy: 70.000%\n",
      "Epoch 029: Loss: 0.508, Accuracy: 70.833%\n",
      "Epoch 030: Loss: 0.499, Accuracy: 70.833%\n",
      "Epoch 031: Loss: 0.488, Accuracy: 70.000%\n",
      "Epoch 032: Loss: 0.476, Accuracy: 71.667%\n",
      "Epoch 033: Loss: 0.470, Accuracy: 72.500%\n",
      "Epoch 034: Loss: 0.458, Accuracy: 70.000%\n",
      "Epoch 035: Loss: 0.448, Accuracy: 75.833%\n",
      "Epoch 036: Loss: 0.437, Accuracy: 75.833%\n",
      "Epoch 037: Loss: 0.425, Accuracy: 77.500%\n",
      "Epoch 038: Loss: 0.429, Accuracy: 80.000%\n",
      "Epoch 039: Loss: 0.412, Accuracy: 79.167%\n",
      "Epoch 040: Loss: 0.404, Accuracy: 86.667%\n",
      "Epoch 041: Loss: 0.398, Accuracy: 85.000%\n",
      "Epoch 042: Loss: 0.389, Accuracy: 89.167%\n",
      "Epoch 043: Loss: 0.387, Accuracy: 81.667%\n",
      "Epoch 044: Loss: 0.379, Accuracy: 84.167%\n",
      "Epoch 045: Loss: 0.375, Accuracy: 87.500%\n",
      "Epoch 046: Loss: 0.361, Accuracy: 86.667%\n",
      "Epoch 047: Loss: 0.355, Accuracy: 88.333%\n",
      "Epoch 048: Loss: 0.349, Accuracy: 91.667%\n",
      "Epoch 049: Loss: 0.332, Accuracy: 93.333%\n",
      "Epoch 050: Loss: 0.327, Accuracy: 91.667%\n",
      "Epoch 051: Loss: 0.332, Accuracy: 90.833%\n",
      "Epoch 052: Loss: 0.329, Accuracy: 94.167%\n",
      "Epoch 053: Loss: 0.320, Accuracy: 93.333%\n",
      "Epoch 054: Loss: 0.300, Accuracy: 93.333%\n",
      "Epoch 055: Loss: 0.293, Accuracy: 95.000%\n",
      "Epoch 056: Loss: 0.302, Accuracy: 95.833%\n",
      "Epoch 057: Loss: 0.288, Accuracy: 96.667%\n",
      "Epoch 058: Loss: 0.270, Accuracy: 95.833%\n",
      "Epoch 059: Loss: 0.279, Accuracy: 96.667%\n",
      "Epoch 060: Loss: 0.265, Accuracy: 96.667%\n",
      "Epoch 061: Loss: 0.260, Accuracy: 97.500%\n",
      "Epoch 062: Loss: 0.253, Accuracy: 95.000%\n",
      "Epoch 063: Loss: 0.250, Accuracy: 97.500%\n",
      "Epoch 064: Loss: 0.245, Accuracy: 97.500%\n",
      "Epoch 065: Loss: 0.235, Accuracy: 95.833%\n",
      "Epoch 066: Loss: 0.227, Accuracy: 96.667%\n",
      "Epoch 067: Loss: 0.224, Accuracy: 99.167%\n",
      "Epoch 068: Loss: 0.207, Accuracy: 98.333%\n",
      "Epoch 069: Loss: 0.216, Accuracy: 95.833%\n",
      "Epoch 070: Loss: 0.219, Accuracy: 97.500%\n",
      "Epoch 071: Loss: 0.209, Accuracy: 95.833%\n",
      "Epoch 072: Loss: 0.200, Accuracy: 95.833%\n",
      "Epoch 073: Loss: 0.196, Accuracy: 97.500%\n",
      "Epoch 074: Loss: 0.189, Accuracy: 97.500%\n",
      "Epoch 075: Loss: 0.191, Accuracy: 95.833%\n",
      "Epoch 076: Loss: 0.190, Accuracy: 97.500%\n",
      "Epoch 077: Loss: 0.181, Accuracy: 97.500%\n",
      "Epoch 078: Loss: 0.179, Accuracy: 97.500%\n",
      "Epoch 079: Loss: 0.169, Accuracy: 98.333%\n",
      "Epoch 080: Loss: 0.169, Accuracy: 98.333%\n",
      "Epoch 081: Loss: 0.165, Accuracy: 97.500%\n",
      "Epoch 082: Loss: 0.168, Accuracy: 97.500%\n",
      "Epoch 083: Loss: 0.153, Accuracy: 98.333%\n",
      "Epoch 084: Loss: 0.153, Accuracy: 99.167%\n",
      "Epoch 085: Loss: 0.142, Accuracy: 97.500%\n",
      "Epoch 086: Loss: 0.147, Accuracy: 97.500%\n",
      "Epoch 087: Loss: 0.137, Accuracy: 99.167%\n",
      "Epoch 088: Loss: 0.151, Accuracy: 97.500%\n",
      "Epoch 089: Loss: 0.146, Accuracy: 98.333%\n",
      "Epoch 090: Loss: 0.141, Accuracy: 96.667%\n",
      "Epoch 091: Loss: 0.138, Accuracy: 99.167%\n",
      "Epoch 092: Loss: 0.131, Accuracy: 96.667%\n",
      "Epoch 093: Loss: 0.125, Accuracy: 96.667%\n",
      "Epoch 094: Loss: 0.134, Accuracy: 97.500%\n",
      "Epoch 095: Loss: 0.124, Accuracy: 98.333%\n",
      "Epoch 096: Loss: 0.115, Accuracy: 98.333%\n",
      "Epoch 097: Loss: 0.120, Accuracy: 99.167%\n",
      "Epoch 098: Loss: 0.116, Accuracy: 98.333%\n",
      "Epoch 099: Loss: 0.123, Accuracy: 98.333%\n",
      "Epoch 100: Loss: 0.105, Accuracy: 99.167%\n",
      "Epoch 101: Loss: 0.114, Accuracy: 99.167%\n",
      "Epoch 102: Loss: 0.119, Accuracy: 97.500%\n",
      "Epoch 103: Loss: 0.117, Accuracy: 98.333%\n",
      "Epoch 104: Loss: 0.115, Accuracy: 97.500%\n",
      "Epoch 105: Loss: 0.107, Accuracy: 99.167%\n",
      "Epoch 106: Loss: 0.110, Accuracy: 99.167%\n",
      "Epoch 107: Loss: 0.110, Accuracy: 98.333%\n",
      "Epoch 108: Loss: 0.108, Accuracy: 98.333%\n",
      "Epoch 109: Loss: 0.089, Accuracy: 97.500%\n",
      "Epoch 110: Loss: 0.085, Accuracy: 100.000%\n",
      "Epoch 111: Loss: 0.106, Accuracy: 98.333%\n",
      "Epoch 112: Loss: 0.105, Accuracy: 98.333%\n",
      "Epoch 113: Loss: 0.107, Accuracy: 96.667%\n",
      "Epoch 114: Loss: 0.101, Accuracy: 99.167%\n",
      "Epoch 115: Loss: 0.088, Accuracy: 99.167%\n",
      "Epoch 116: Loss: 0.105, Accuracy: 96.667%\n",
      "Epoch 117: Loss: 0.098, Accuracy: 98.333%\n",
      "Epoch 118: Loss: 0.095, Accuracy: 98.333%\n",
      "Epoch 119: Loss: 0.095, Accuracy: 97.500%\n",
      "Epoch 120: Loss: 0.091, Accuracy: 99.167%\n",
      "Epoch 121: Loss: 0.099, Accuracy: 98.333%\n",
      "Epoch 122: Loss: 0.082, Accuracy: 98.333%\n",
      "Epoch 123: Loss: 0.089, Accuracy: 98.333%\n",
      "Epoch 124: Loss: 0.091, Accuracy: 97.500%\n",
      "Epoch 125: Loss: 0.086, Accuracy: 99.167%\n",
      "Epoch 126: Loss: 0.087, Accuracy: 99.167%\n",
      "Epoch 127: Loss: 0.078, Accuracy: 98.333%\n",
      "Epoch 128: Loss: 0.082, Accuracy: 99.167%\n",
      "Epoch 129: Loss: 0.073, Accuracy: 97.500%\n",
      "Epoch 130: Loss: 0.083, Accuracy: 99.167%\n",
      "Epoch 131: Loss: 0.076, Accuracy: 99.167%\n",
      "Epoch 132: Loss: 0.078, Accuracy: 99.167%\n",
      "Epoch 133: Loss: 0.073, Accuracy: 99.167%\n",
      "Epoch 134: Loss: 0.083, Accuracy: 98.333%\n",
      "Epoch 135: Loss: 0.083, Accuracy: 97.500%\n",
      "Epoch 136: Loss: 0.079, Accuracy: 98.333%\n",
      "Epoch 137: Loss: 0.073, Accuracy: 97.500%\n",
      "Epoch 138: Loss: 0.084, Accuracy: 99.167%\n",
      "Epoch 139: Loss: 0.078, Accuracy: 96.667%\n",
      "Epoch 140: Loss: 0.073, Accuracy: 98.333%\n",
      "Epoch 141: Loss: 0.078, Accuracy: 99.167%\n",
      "Epoch 142: Loss: 0.077, Accuracy: 98.333%\n",
      "Epoch 143: Loss: 0.067, Accuracy: 99.167%\n",
      "Epoch 144: Loss: 0.067, Accuracy: 98.333%\n",
      "Epoch 145: Loss: 0.075, Accuracy: 98.333%\n",
      "Epoch 146: Loss: 0.061, Accuracy: 99.167%\n",
      "Epoch 147: Loss: 0.088, Accuracy: 97.500%\n",
      "Epoch 148: Loss: 0.076, Accuracy: 98.333%\n",
      "Epoch 149: Loss: 0.080, Accuracy: 98.333%\n",
      "Epoch 150: Loss: 0.066, Accuracy: 98.333%\n",
      "Epoch 151: Loss: 0.075, Accuracy: 97.500%\n",
      "Epoch 152: Loss: 0.059, Accuracy: 100.000%\n",
      "Epoch 153: Loss: 0.064, Accuracy: 99.167%\n",
      "Epoch 154: Loss: 0.072, Accuracy: 99.167%\n",
      "Epoch 155: Loss: 0.075, Accuracy: 99.167%\n",
      "Epoch 156: Loss: 0.044, Accuracy: 100.000%\n",
      "Epoch 157: Loss: 0.081, Accuracy: 98.333%\n",
      "Epoch 158: Loss: 0.057, Accuracy: 98.333%\n",
      "Epoch 159: Loss: 0.072, Accuracy: 98.333%\n",
      "Epoch 160: Loss: 0.077, Accuracy: 97.500%\n",
      "Epoch 161: Loss: 0.064, Accuracy: 98.333%\n",
      "Epoch 162: Loss: 0.077, Accuracy: 95.833%\n",
      "Epoch 163: Loss: 0.079, Accuracy: 97.500%\n",
      "Epoch 164: Loss: 0.052, Accuracy: 99.167%\n",
      "Epoch 165: Loss: 0.062, Accuracy: 97.500%\n",
      "Epoch 166: Loss: 0.065, Accuracy: 98.333%\n",
      "Epoch 167: Loss: 0.071, Accuracy: 97.500%\n",
      "Epoch 168: Loss: 0.055, Accuracy: 99.167%\n",
      "Epoch 169: Loss: 0.062, Accuracy: 99.167%\n",
      "Epoch 170: Loss: 0.047, Accuracy: 100.000%\n",
      "Epoch 171: Loss: 0.053, Accuracy: 99.167%\n",
      "Epoch 172: Loss: 0.052, Accuracy: 100.000%\n",
      "Epoch 173: Loss: 0.071, Accuracy: 97.500%\n",
      "Epoch 174: Loss: 0.053, Accuracy: 100.000%\n",
      "Epoch 175: Loss: 0.068, Accuracy: 97.500%\n",
      "Epoch 176: Loss: 0.069, Accuracy: 98.333%\n",
      "Epoch 177: Loss: 0.079, Accuracy: 97.500%\n",
      "Epoch 178: Loss: 0.058, Accuracy: 99.167%\n",
      "Epoch 179: Loss: 0.052, Accuracy: 98.333%\n",
      "Epoch 180: Loss: 0.054, Accuracy: 99.167%\n",
      "Epoch 181: Loss: 0.065, Accuracy: 97.500%\n",
      "Epoch 182: Loss: 0.055, Accuracy: 99.167%\n",
      "Epoch 183: Loss: 0.049, Accuracy: 99.167%\n",
      "Epoch 184: Loss: 0.062, Accuracy: 97.500%\n",
      "Epoch 185: Loss: 0.057, Accuracy: 98.333%\n",
      "Epoch 186: Loss: 0.063, Accuracy: 97.500%\n",
      "Epoch 187: Loss: 0.064, Accuracy: 97.500%\n",
      "Epoch 188: Loss: 0.047, Accuracy: 99.167%\n",
      "Epoch 189: Loss: 0.055, Accuracy: 99.167%\n",
      "Epoch 190: Loss: 0.062, Accuracy: 98.333%\n",
      "Epoch 191: Loss: 0.058, Accuracy: 99.167%\n",
      "Epoch 192: Loss: 0.052, Accuracy: 99.167%\n",
      "Epoch 193: Loss: 0.053, Accuracy: 98.333%\n",
      "Epoch 194: Loss: 0.061, Accuracy: 99.167%\n",
      "Epoch 195: Loss: 0.066, Accuracy: 97.500%\n"
     ]
    },
    {
     "name": "stdout",
     "output_type": "stream",
     "text": [
      "Epoch 196: Loss: 0.051, Accuracy: 99.167%\n",
      "Epoch 197: Loss: 0.068, Accuracy: 98.333%\n",
      "Epoch 198: Loss: 0.044, Accuracy: 100.000%\n",
      "Epoch 199: Loss: 0.043, Accuracy: 99.167%\n"
     ]
    }
   ],
   "source": [
    "for epoch in range(num_epochs):\n",
    "    epoch_loss_avg = tfe.metrics.Mean()\n",
    "    epoch_accuracy = tfe.metrics.Accuracy()\n",
    "\n",
    "  # Training loop - using batches of 32\n",
    "    for x, y in train_dataset:\n",
    "    # Optimize the model\n",
    "        grads = grad(model, x, y)\n",
    "        optimizer.apply_gradients(zip(grads, model.variables),\n",
    "                              global_step=tf.train.get_or_create_global_step())\n",
    "\n",
    "        # Track progress\n",
    "        epoch_loss_avg(loss(model, x, y))  # add current batch loss\n",
    "        # compare predicted label to actual label\n",
    "        epoch_accuracy(tf.argmax(model(x), axis=1, output_type=tf.int32), y)\n",
    "\n",
    "  # end epoch\n",
    "    train_loss_results.append(epoch_loss_avg.result())\n",
    "    train_accuracy_results.append(epoch_accuracy.result())\n",
    "  \n",
    "    #if epoch % 10 == 0:\n",
    "    print(\"Epoch {:03d}: Loss: {:.3f}, Accuracy: {:.3%}\".format(epoch,\n",
    "                                                                epoch_loss_avg.result(),\n",
    "                                                                epoch_accuracy.result()))\n"
   ]
  },
  {
   "cell_type": "code",
   "execution_count": 44,
   "metadata": {},
   "outputs": [
    {
     "data": {
      "image/png": "[encoded data removed]",
      "text/plain": [
       "<Figure size 864x576 with 2 Axes>"
      ]
     },
     "metadata": {},
     "output_type": "display_data"
    }
   ],
   "source": [
    "fig, axes = plt.subplots(2, sharex=True, figsize=(12, 8))\n",
    "fig.suptitle('Training Metrics')\n",
    "\n",
    "axes[0].set_ylabel(\"Loss\", fontsize=14)\n",
    "axes[0].plot(train_loss_results)\n",
    "\n",
    "axes[1].set_ylabel(\"Accuracy\", fontsize=14)\n",
    "axes[1].set_xlabel(\"Epoch\", fontsize=14)\n",
    "axes[1].plot(train_accuracy_results)\n",
    "\n",
    "plt.show()"
   ]
  },
  {
   "cell_type": "code",
   "execution_count": 45,
   "metadata": {},
   "outputs": [],
   "source": [
    "test_url = \"http://download.tensorflow.org/data/iris_test.csv\"\n",
    "\n",
    "test_fp = tf.keras.utils.get_file(fname=os.path.basename(test_url),\n",
    "                                  origin=test_url)\n",
    "\n",
    "test_dataset = tf.data.TextLineDataset(test_fp)\n",
    "test_dataset = test_dataset.skip(1)             # skip header row\n",
    "test_dataset = test_dataset.map(parse_csv)      # parse each row with the funcition created earlier\n",
    "test_dataset = test_dataset.shuffle(1000)       # randomize\n",
    "test_dataset = test_dataset.batch(32)           # use the same batch size as the training set"
   ]
  },
  {
   "cell_type": "code",
   "execution_count": 46,
   "metadata": {},
   "outputs": [
    {
     "name": "stdout",
     "output_type": "stream",
     "text": [
      "tf.Tensor([1 1 0 1 1 1 2 2 2 0 1 1 0 2 1 0 0 2 2 1 1 1 0 2 0 2 2 1 1 0], shape=(30,), dtype=int32)\n",
      "Test set accuracy: 96.667%\n"
     ]
    }
   ],
   "source": [
    "test_accuracy = tfe.metrics.Accuracy()\n",
    "\n",
    "for (x, y) in test_dataset:\n",
    "    prediction = tf.argmax(model(x), axis=1, output_type=tf.int32)\n",
    "    print(prediction)\n",
    "    test_accuracy(prediction, y)\n",
    "\n",
    "print(\"Test set accuracy: {:.3%}\".format(test_accuracy.result()))"
   ]
  },
  {
   "cell_type": "code",
   "execution_count": 47,
   "metadata": {},
   "outputs": [
    {
     "name": "stdout",
     "output_type": "stream",
     "text": [
      "Example 0 prediction: Iris setosa\n",
      "Example 1 prediction: Iris versicolor\n",
      "Example 2 prediction: Iris virginica\n"
     ]
    }
   ],
   "source": [
    "class_ids = [\"Iris setosa\", \"Iris versicolor\", \"Iris virginica\"]\n",
    "\n",
    "predict_dataset = tf.convert_to_tensor([\n",
    "    [5.1, 3.3, 1.7, 0.5,],\n",
    "    [5.9, 3.0, 4.2, 1.5,],\n",
    "    [6.9, 3.1, 5.4, 2.1]\n",
    "\n",
    "])\n",
    "\n",
    "predictions = model(predict_dataset)\n",
    "\n",
    "for i, logits in enumerate(predictions):\n",
    "  class_idx = tf.argmax(logits).numpy()\n",
    "  name = class_ids[class_idx]\n",
    "  print(\"Example {} prediction: {}\".format(i, name))\n"
   ]
  },
  {
   "cell_type": "code",
   "execution_count": null,
   "metadata": {},
   "outputs": [],
   "source": []
  }
 ],
 "metadata": {
  "kernelspec": {
   "display_name": "Python 3",
   "language": "python",
   "name": "python3"
  },
  "language_info": {
   "codemirror_mode": {
    "name": "ipython",
    "version": 3
   },
   "file_extension": ".py",
   "mimetype": "text/x-python",
   "name": "python",
   "nbconvert_exporter": "python",
   "pygments_lexer": "ipython3",
   "version": "3.5.5"
  }
 },
 "nbformat": 4,
 "nbformat_minor": 2
}
