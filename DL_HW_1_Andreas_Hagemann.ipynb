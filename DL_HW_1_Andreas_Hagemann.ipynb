{
 "cells": [
  {
   "cell_type": "code",
   "execution_count": 1,
   "metadata": {},
   "outputs": [],
   "source": [
    "import numpy as np"
   ]
  },
  {
   "cell_type": "code",
   "execution_count": 2,
   "metadata": {},
   "outputs": [],
   "source": [
    "def sigmoid(x):\n",
    "    return 1 / (1+np.exp(-x))"
   ]
  },
  {
   "cell_type": "code",
   "execution_count": 3,
   "metadata": {},
   "outputs": [],
   "source": [
    "def layerExec(input, weight, bias, act):\n",
    "    output = np.dot(weight, input) + bias\n",
    "    if act:\n",
    "        output = sigmoid(output)\n",
    "    return output"
   ]
  },
  {
   "cell_type": "code",
   "execution_count": 4,
   "metadata": {},
   "outputs": [],
   "source": [
    "def network(input):\n",
    "    layer1 = layerExec(input, w1, b1, True)\n",
    "    layer2 = layerExec(layer1, w2, b2, True)\n",
    "    layer3 = layerExec(layer2, w3, b3, False)\n",
    "    return layer3"
   ]
  },
  {
   "cell_type": "code",
   "execution_count": 5,
   "metadata": {},
   "outputs": [],
   "source": [
    "w1 = np.array([[-0.20, 0.48, -0.52],\n",
    "               [-0.56, 1.97, 1.39],\n",
    "               [0.1, 0.28, 0.77],\n",
    "               [1.25, 1.01, -1.30]\n",
    "              ])"
   ]
  },
  {
   "cell_type": "code",
   "execution_count": 6,
   "metadata": {},
   "outputs": [],
   "source": [
    "w2 = np.array([[-1, -0.19, 0.83, -0.22],\n",
    "               [-0.27, 0.24, 1.62, -0.51],\n",
    "               [-0.29, 0.06, 0.15, 0.26],\n",
    "               [0, 0.67, -0.36, -0.42]\n",
    "              ])"
   ]
  },
  {
   "cell_type": "code",
   "execution_count": 7,
   "metadata": {},
   "outputs": [],
   "source": [
    "w3 = np.array([[-0.13, 0.01, -0.10, 0.03],\n",
    "               [-0.24, -0.02, -0.15, -0.10]\n",
    "              ])"
   ]
  },
  {
   "cell_type": "code",
   "execution_count": 8,
   "metadata": {},
   "outputs": [],
   "source": [
    "b1 = np.array([0.27, 0.23, 1.35, 0.89])"
   ]
  },
  {
   "cell_type": "code",
   "execution_count": 9,
   "metadata": {},
   "outputs": [],
   "source": [
    "b1 = b1[:,None]"
   ]
  },
  {
   "cell_type": "code",
   "execution_count": 10,
   "metadata": {},
   "outputs": [],
   "source": [
    "b2 = np.array([-1.19, -0.93, -0.43, 0.28])"
   ]
  },
  {
   "cell_type": "code",
   "execution_count": 11,
   "metadata": {},
   "outputs": [],
   "source": [
    "b2 = b2[:,None]"
   ]
  },
  {
   "cell_type": "code",
   "execution_count": 12,
   "metadata": {},
   "outputs": [],
   "source": [
    "b3 =  np.array([-0.13, 0.03])"
   ]
  },
  {
   "cell_type": "code",
   "execution_count": 13,
   "metadata": {},
   "outputs": [],
   "source": [
    "b3 = b3[:,None]"
   ]
  },
  {
   "cell_type": "code",
   "execution_count": 14,
   "metadata": {},
   "outputs": [],
   "source": [
    "x = np.array([[0.13, 0.68, 0.80, 0.57, 0.97],\n",
    "              [0.63, 0.89, 0.50, 0.35, 0.71],\n",
    "              [0.50, 0.23, 0.24, 0.79, 0.50]\n",
    "             ])"
   ]
  },
  {
   "cell_type": "code",
   "execution_count": 15,
   "metadata": {},
   "outputs": [
    {
     "data": {
      "text/plain": [
       "array([[-0.17861671, -0.17866109, -0.18070026, -0.18187999, -0.18098722],\n",
       "       [-0.15259747, -0.14814628, -0.1490683 , -0.15790862, -0.15233763]])"
      ]
     },
     "execution_count": 15,
     "metadata": {},
     "output_type": "execute_result"
    }
   ],
   "source": [
    "network(x)"
   ]
  },
  {
   "cell_type": "code",
   "execution_count": null,
   "metadata": {},
   "outputs": [],
   "source": []
  }
 ],
 "metadata": {
  "kernelspec": {
   "display_name": "Python 3",
   "language": "python",
   "name": "python3"
  },
  "language_info": {
   "codemirror_mode": {
    "name": "ipython",
    "version": 3
   },
   "file_extension": ".py",
   "mimetype": "text/x-python",
   "name": "python",
   "nbconvert_exporter": "python",
   "pygments_lexer": "ipython3",
   "version": "3.6.4"
  }
 },
 "nbformat": 4,
 "nbformat_minor": 2
}
